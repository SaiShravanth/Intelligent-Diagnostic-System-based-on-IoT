{
 "cells": [
  {
   "cell_type": "code",
   "execution_count": 519,
   "metadata": {},
   "outputs": [],
   "source": [
    "import pandas\n",
    "import numpy as np\n",
    "s=0"
   ]
  },
  {
   "cell_type": "code",
   "execution_count": 520,
   "metadata": {},
   "outputs": [],
   "source": [
    "ds = pandas.read_csv(\"data.csv\")"
   ]
  },
  {
   "cell_type": "code",
   "execution_count": 521,
   "metadata": {},
   "outputs": [],
   "source": [
    "#https://docs.google.com/spreadsheets/d/1LirHki_QnepGXuAjJs6YhgwR6CFSSnrOODFJ3CEAQAo/edit?usp=sharing\n",
    "#https://docs.google.com/spreadsheets/d/1MyADzxm9TBakpC81R22AD2idcvWxxZZgC-Xz-YVk_J8/edit?usp=sharing\n",
    "#sheet_id = '1MyADzxm9TBakpC81R22AD2idcvWxxZZgC-Xz-YVk_J8'\n",
    "#ds = pandas.read_csv(f\"https://docs.google.com/spreadsheets/d/{sheet_id}/export?format=csv\")\n",
    "#print(ds)"
   ]
  },
  {
   "cell_type": "code",
   "execution_count": 522,
   "metadata": {},
   "outputs": [
    {
     "data": {
      "text/html": [
       "<div>\n",
       "<style scoped>\n",
       "    .dataframe tbody tr th:only-of-type {\n",
       "        vertical-align: middle;\n",
       "    }\n",
       "\n",
       "    .dataframe tbody tr th {\n",
       "        vertical-align: top;\n",
       "    }\n",
       "\n",
       "    .dataframe thead th {\n",
       "        text-align: right;\n",
       "    }\n",
       "</style>\n",
       "<table border=\"1\" class=\"dataframe\">\n",
       "  <thead>\n",
       "    <tr style=\"text-align: right;\">\n",
       "      <th></th>\n",
       "      <th>0</th>\n",
       "      <th>1</th>\n",
       "      <th>2</th>\n",
       "      <th>3</th>\n",
       "    </tr>\n",
       "  </thead>\n",
       "  <tbody>\n",
       "    <tr>\n",
       "      <th>0</th>\n",
       "      <td>193.0</td>\n",
       "      <td>36.7</td>\n",
       "      <td>98.0</td>\n",
       "      <td>0</td>\n",
       "    </tr>\n",
       "    <tr>\n",
       "      <th>1</th>\n",
       "      <td>99.0</td>\n",
       "      <td>37.2</td>\n",
       "      <td>97.0</td>\n",
       "      <td>0</td>\n",
       "    </tr>\n",
       "    <tr>\n",
       "      <th>2</th>\n",
       "      <td>80.0</td>\n",
       "      <td>36.0</td>\n",
       "      <td>97.0</td>\n",
       "      <td>1</td>\n",
       "    </tr>\n",
       "    <tr>\n",
       "      <th>3</th>\n",
       "      <td>73.0</td>\n",
       "      <td>36.8</td>\n",
       "      <td>98.0</td>\n",
       "      <td>1</td>\n",
       "    </tr>\n",
       "    <tr>\n",
       "      <th>4</th>\n",
       "      <td>72.0</td>\n",
       "      <td>36.0</td>\n",
       "      <td>96.0</td>\n",
       "      <td>0</td>\n",
       "    </tr>\n",
       "  </tbody>\n",
       "</table>\n",
       "</div>"
      ],
      "text/plain": [
       "       0     1     2  3\n",
       "0  193.0  36.7  98.0  0\n",
       "1   99.0  37.2  97.0  0\n",
       "2   80.0  36.0  97.0  1\n",
       "3   73.0  36.8  98.0  1\n",
       "4   72.0  36.0  96.0  0"
      ]
     },
     "execution_count": 522,
     "metadata": {},
     "output_type": "execute_result"
    }
   ],
   "source": [
    "ds.head()"
   ]
  },
  {
   "cell_type": "code",
   "execution_count": 523,
   "metadata": {},
   "outputs": [
    {
     "data": {
      "text/plain": [
       "Index(['0', '1', '2', '3'], dtype='object')"
      ]
     },
     "execution_count": 523,
     "metadata": {},
     "output_type": "execute_result"
    }
   ],
   "source": [
    "ds.columns"
   ]
  },
  {
   "cell_type": "code",
   "execution_count": 524,
   "metadata": {},
   "outputs": [],
   "source": [
    "y = ds['3']"
   ]
  },
  {
   "cell_type": "code",
   "execution_count": 525,
   "metadata": {},
   "outputs": [],
   "source": [
    "X = ds[['0','1','2',]]"
   ]
  },
  {
   "cell_type": "code",
   "execution_count": 526,
   "metadata": {},
   "outputs": [],
   "source": [
    "from keras.models import Sequential"
   ]
  },
  {
   "cell_type": "code",
   "execution_count": 527,
   "metadata": {},
   "outputs": [],
   "source": [
    "model = Sequential()"
   ]
  },
  {
   "cell_type": "code",
   "execution_count": 528,
   "metadata": {},
   "outputs": [],
   "source": [
    "from keras.layers import Dense"
   ]
  },
  {
   "cell_type": "markdown",
   "metadata": {},
   "source": [
    "\n",
    "\n"
   ]
  },
  {
   "cell_type": "code",
   "execution_count": 529,
   "metadata": {},
   "outputs": [],
   "source": [
    "model.add(Dense(units=12, activation='relu', input_dim = 3))"
   ]
  },
  {
   "cell_type": "code",
   "execution_count": 530,
   "metadata": {},
   "outputs": [
    {
     "name": "stdout",
     "output_type": "stream",
     "text": [
      "Model: \"sequential_9\"\n",
      "_________________________________________________________________\n",
      "Layer (type)                 Output Shape              Param #   \n",
      "=================================================================\n",
      "dense_54 (Dense)             (None, 12)                48        \n",
      "=================================================================\n",
      "Total params: 48\n",
      "Trainable params: 48\n",
      "Non-trainable params: 0\n",
      "_________________________________________________________________\n"
     ]
    }
   ],
   "source": [
    "model.summary()"
   ]
  },
  {
   "cell_type": "code",
   "execution_count": 531,
   "metadata": {},
   "outputs": [],
   "source": [
    "model.add(Dense(units=6, activation='relu'))"
   ]
  },
  {
   "cell_type": "code",
   "execution_count": 532,
   "metadata": {},
   "outputs": [],
   "source": [
    "model.add(Dense(units=4, activation='relu'))"
   ]
  },
  {
   "cell_type": "code",
   "execution_count": 533,
   "metadata": {},
   "outputs": [],
   "source": [
    "model.add(Dense(units=3, activation='relu'))"
   ]
  },
  {
   "cell_type": "code",
   "execution_count": 534,
   "metadata": {},
   "outputs": [],
   "source": [
    "model.add(Dense(units=2, activation='relu'))"
   ]
  },
  {
   "cell_type": "code",
   "execution_count": 535,
   "metadata": {},
   "outputs": [],
   "source": [
    "model.add(Dense(units=1, activation='sigmoid'))"
   ]
  },
  {
   "cell_type": "code",
   "execution_count": 536,
   "metadata": {},
   "outputs": [
    {
     "name": "stdout",
     "output_type": "stream",
     "text": [
      "Model: \"sequential_9\"\n",
      "_________________________________________________________________\n",
      "Layer (type)                 Output Shape              Param #   \n",
      "=================================================================\n",
      "dense_54 (Dense)             (None, 12)                48        \n",
      "_________________________________________________________________\n",
      "dense_55 (Dense)             (None, 6)                 78        \n",
      "_________________________________________________________________\n",
      "dense_56 (Dense)             (None, 4)                 28        \n",
      "_________________________________________________________________\n",
      "dense_57 (Dense)             (None, 3)                 15        \n",
      "_________________________________________________________________\n",
      "dense_58 (Dense)             (None, 2)                 8         \n",
      "_________________________________________________________________\n",
      "dense_59 (Dense)             (None, 1)                 3         \n",
      "=================================================================\n",
      "Total params: 180\n",
      "Trainable params: 180\n",
      "Non-trainable params: 0\n",
      "_________________________________________________________________\n"
     ]
    }
   ],
   "source": [
    "model.summary()"
   ]
  },
  {
   "cell_type": "code",
   "execution_count": 537,
   "metadata": {},
   "outputs": [],
   "source": [
    "from keras.optimizers import Adam"
   ]
  },
  {
   "cell_type": "code",
   "execution_count": 538,
   "metadata": {},
   "outputs": [],
   "source": [
    "model.compile(optimizer=Adam(learning_rate=0.001),loss=\"binary_crossentropy\",metrics=[\"accuracy\"])"
   ]
  },
  {
   "cell_type": "code",
   "execution_count": 539,
   "metadata": {},
   "outputs": [
    {
     "name": "stdout",
     "output_type": "stream",
     "text": [
      "Epoch 1/100\n",
      "2/2 [==============================] - 1s 2ms/step - loss: 0.6857 - accuracy: 0.4610\n",
      "Epoch 2/100\n",
      "2/2 [==============================] - 0s 3ms/step - loss: 0.6718 - accuracy: 0.5303\n",
      "Epoch 3/100\n",
      "2/2 [==============================] - 0s 2ms/step - loss: 0.6703 - accuracy: 0.6222\n",
      "Epoch 4/100\n",
      "2/2 [==============================] - 0s 2ms/step - loss: 0.6748 - accuracy: 0.6447\n",
      "Epoch 5/100\n",
      "2/2 [==============================] - 0s 1ms/step - loss: 0.6748 - accuracy: 0.6881\n",
      "Epoch 6/100\n",
      "2/2 [==============================] - 0s 999us/step - loss: 0.6719 - accuracy: 0.6551\n",
      "Epoch 7/100\n",
      "2/2 [==============================] - 0s 2ms/step - loss: 0.6667 - accuracy: 0.6759\n",
      "Epoch 8/100\n",
      "2/2 [==============================] - 0s 2ms/step - loss: 0.6706 - accuracy: 0.6672\n",
      "Epoch 9/100\n",
      "2/2 [==============================] - 0s 1ms/step - loss: 0.6688 - accuracy: 0.6083\n",
      "Epoch 10/100\n",
      "2/2 [==============================] - 0s 2ms/step - loss: 0.6708 - accuracy: 0.6430\n",
      "Epoch 11/100\n",
      "2/2 [==============================] - 0s 3ms/step - loss: 0.6645 - accuracy: 0.6447\n",
      "Epoch 12/100\n",
      "2/2 [==============================] - 0s 2ms/step - loss: 0.6665 - accuracy: 0.7002\n",
      "Epoch 13/100\n",
      "2/2 [==============================] - 0s 2ms/step - loss: 0.6653 - accuracy: 0.6343\n",
      "Epoch 14/100\n",
      "2/2 [==============================] - 0s 2ms/step - loss: 0.6584 - accuracy: 0.6551\n",
      "Epoch 15/100\n",
      "2/2 [==============================] - 0s 2ms/step - loss: 0.6621 - accuracy: 0.6898\n",
      "Epoch 16/100\n",
      "2/2 [==============================] - 0s 2ms/step - loss: 0.6657 - accuracy: 0.6794\n",
      "Epoch 17/100\n",
      "2/2 [==============================] - 0s 3ms/step - loss: 0.6574 - accuracy: 0.6447\n",
      "Epoch 18/100\n",
      "2/2 [==============================] - 0s 2ms/step - loss: 0.6647 - accuracy: 0.6672\n",
      "Epoch 19/100\n",
      "2/2 [==============================] - 0s 2ms/step - loss: 0.6619 - accuracy: 0.6794\n",
      "Epoch 20/100\n",
      "2/2 [==============================] - 0s 3ms/step - loss: 0.6467 - accuracy: 0.6898\n",
      "Epoch 21/100\n",
      "2/2 [==============================] - 0s 2ms/step - loss: 0.6635 - accuracy: 0.6672\n",
      "Epoch 22/100\n",
      "2/2 [==============================] - 0s 2ms/step - loss: 0.6510 - accuracy: 0.7002\n",
      "Epoch 23/100\n",
      "2/2 [==============================] - 0s 2ms/step - loss: 0.6578 - accuracy: 0.6794\n",
      "Epoch 24/100\n",
      "2/2 [==============================] - 0s 2ms/step - loss: 0.6615 - accuracy: 0.6689\n",
      "Epoch 25/100\n",
      "2/2 [==============================] - 0s 2ms/step - loss: 0.6517 - accuracy: 0.7002\n",
      "Epoch 26/100\n",
      "2/2 [==============================] - 0s 3ms/step - loss: 0.6597 - accuracy: 0.6672\n",
      "Epoch 27/100\n",
      "2/2 [==============================] - 0s 2ms/step - loss: 0.6517 - accuracy: 0.6343\n",
      "Epoch 28/100\n",
      "2/2 [==============================] - 0s 2ms/step - loss: 0.6523 - accuracy: 0.6447\n",
      "Epoch 29/100\n",
      "2/2 [==============================] - 0s 2ms/step - loss: 0.6398 - accuracy: 0.7106\n",
      "Epoch 30/100\n",
      "2/2 [==============================] - 0s 2ms/step - loss: 0.6351 - accuracy: 0.7106\n",
      "Epoch 31/100\n",
      "2/2 [==============================] - 0s 2ms/step - loss: 0.6394 - accuracy: 0.6794\n",
      "Epoch 32/100\n",
      "2/2 [==============================] - 0s 2ms/step - loss: 0.6445 - accuracy: 0.6551\n",
      "Epoch 33/100\n",
      "2/2 [==============================] - 0s 2ms/step - loss: 0.6534 - accuracy: 0.6672\n",
      "Epoch 34/100\n",
      "2/2 [==============================] - 0s 2ms/step - loss: 0.6501 - accuracy: 0.6447\n",
      "Epoch 35/100\n",
      "2/2 [==============================] - 0s 996us/step - loss: 0.6477 - accuracy: 0.7002\n",
      "Epoch 36/100\n",
      "2/2 [==============================] - 0s 3ms/step - loss: 0.6349 - accuracy: 0.7210\n",
      "Epoch 37/100\n",
      "2/2 [==============================] - 0s 2ms/step - loss: 0.6361 - accuracy: 0.7106\n",
      "Epoch 38/100\n",
      "2/2 [==============================] - 0s 3ms/step - loss: 0.6340 - accuracy: 0.6672\n",
      "Epoch 39/100\n",
      "2/2 [==============================] - 0s 2ms/step - loss: 0.6469 - accuracy: 0.6672\n",
      "Epoch 40/100\n",
      "2/2 [==============================] - 0s 2ms/step - loss: 0.6501 - accuracy: 0.6689\n",
      "Epoch 41/100\n",
      "2/2 [==============================] - 0s 2ms/step - loss: 0.6440 - accuracy: 0.6898\n",
      "Epoch 42/100\n",
      "2/2 [==============================] - 0s 2ms/step - loss: 0.6501 - accuracy: 0.6585\n",
      "Epoch 43/100\n",
      "2/2 [==============================] - 0s 2ms/step - loss: 0.6371 - accuracy: 0.6689\n",
      "Epoch 44/100\n",
      "2/2 [==============================] - 0s 2ms/step - loss: 0.6365 - accuracy: 0.7106\n",
      "Epoch 45/100\n",
      "2/2 [==============================] - 0s 997us/step - loss: 0.6352 - accuracy: 0.6881\n",
      "Epoch 46/100\n",
      "2/2 [==============================] - 0s 2ms/step - loss: 0.6391 - accuracy: 0.6464\n",
      "Epoch 47/100\n",
      "2/2 [==============================] - 0s 2ms/step - loss: 0.6297 - accuracy: 0.6777\n",
      "Epoch 48/100\n",
      "2/2 [==============================] - 0s 1ms/step - loss: 0.6298 - accuracy: 0.6672\n",
      "Epoch 49/100\n",
      "2/2 [==============================] - 0s 2ms/step - loss: 0.6370 - accuracy: 0.6898\n",
      "Epoch 50/100\n",
      "2/2 [==============================] - 0s 2ms/step - loss: 0.6216 - accuracy: 0.6968\n",
      "Epoch 51/100\n",
      "2/2 [==============================] - 0s 2ms/step - loss: 0.6289 - accuracy: 0.6777\n",
      "Epoch 52/100\n",
      "2/2 [==============================] - 0s 2ms/step - loss: 0.6369 - accuracy: 0.6777\n",
      "Epoch 53/100\n",
      "2/2 [==============================] - 0s 2ms/step - loss: 0.6374 - accuracy: 0.6360\n",
      "Epoch 54/100\n",
      "2/2 [==============================] - 0s 4ms/step - loss: 0.6266 - accuracy: 0.6672\n",
      "Epoch 55/100\n",
      "2/2 [==============================] - 0s 2ms/step - loss: 0.6404 - accuracy: 0.6585\n",
      "Epoch 56/100\n",
      "2/2 [==============================] - 0s 2ms/step - loss: 0.6251 - accuracy: 0.6881\n",
      "Epoch 57/100\n",
      "2/2 [==============================] - 0s 3ms/step - loss: 0.6216 - accuracy: 0.6881\n",
      "Epoch 58/100\n",
      "2/2 [==============================] - 0s 2ms/step - loss: 0.6220 - accuracy: 0.6881\n",
      "Epoch 59/100\n",
      "2/2 [==============================] - 0s 2ms/step - loss: 0.6155 - accuracy: 0.6759\n",
      "Epoch 60/100\n",
      "2/2 [==============================] - 0s 2ms/step - loss: 0.6176 - accuracy: 0.6985\n",
      "Epoch 61/100\n",
      "2/2 [==============================] - 0s 2ms/step - loss: 0.6237 - accuracy: 0.6551\n",
      "Epoch 62/100\n",
      "2/2 [==============================] - 0s 2ms/step - loss: 0.6321 - accuracy: 0.6777\n",
      "Epoch 63/100\n",
      "2/2 [==============================] - 0s 4ms/step - loss: 0.6205 - accuracy: 0.6777\n",
      "Epoch 64/100\n",
      "2/2 [==============================] - 0s 2ms/step - loss: 0.6373 - accuracy: 0.6360\n",
      "Epoch 65/100\n",
      "2/2 [==============================] - 0s 3ms/step - loss: 0.6333 - accuracy: 0.6464\n",
      "Epoch 66/100\n",
      "2/2 [==============================] - 0s 3ms/step - loss: 0.6203 - accuracy: 0.6777\n",
      "Epoch 67/100\n",
      "2/2 [==============================] - 0s 2ms/step - loss: 0.6196 - accuracy: 0.6672\n",
      "Epoch 68/100\n",
      "2/2 [==============================] - 0s 3ms/step - loss: 0.6260 - accuracy: 0.6672\n",
      "Epoch 69/100\n",
      "2/2 [==============================] - 0s 2ms/step - loss: 0.6153 - accuracy: 0.6881\n",
      "Epoch 70/100\n",
      "2/2 [==============================] - 0s 2ms/step - loss: 0.6189 - accuracy: 0.6672\n",
      "Epoch 71/100\n",
      "2/2 [==============================] - 0s 3ms/step - loss: 0.6469 - accuracy: 0.6360\n",
      "Epoch 72/100\n",
      "2/2 [==============================] - 0s 2ms/step - loss: 0.6280 - accuracy: 0.6672\n",
      "Epoch 73/100\n",
      "2/2 [==============================] - 0s 2ms/step - loss: 0.6289 - accuracy: 0.6568\n",
      "Epoch 74/100\n",
      "2/2 [==============================] - 0s 3ms/step - loss: 0.6168 - accuracy: 0.6672\n",
      "Epoch 75/100\n",
      "2/2 [==============================] - 0s 2ms/step - loss: 0.6134 - accuracy: 0.6551\n",
      "Epoch 76/100\n",
      "2/2 [==============================] - 0s 2ms/step - loss: 0.6400 - accuracy: 0.6464\n",
      "Epoch 77/100\n",
      "2/2 [==============================] - 0s 3ms/step - loss: 0.6191 - accuracy: 0.6777\n",
      "Epoch 78/100\n",
      "2/2 [==============================] - 0s 2ms/step - loss: 0.6190 - accuracy: 0.6672\n",
      "Epoch 79/100\n",
      "2/2 [==============================] - 0s 2ms/step - loss: 0.6131 - accuracy: 0.6881\n",
      "Epoch 80/100\n",
      "2/2 [==============================] - 0s 2ms/step - loss: 0.6021 - accuracy: 0.6985\n",
      "Epoch 81/100\n",
      "2/2 [==============================] - 0s 3ms/step - loss: 0.6185 - accuracy: 0.6794\n",
      "Epoch 82/100\n",
      "2/2 [==============================] - 0s 2ms/step - loss: 0.6066 - accuracy: 0.6881\n",
      "Epoch 83/100\n",
      "2/2 [==============================] - 0s 3ms/step - loss: 0.5939 - accuracy: 0.7089\n",
      "Epoch 84/100\n"
     ]
    },
    {
     "name": "stdout",
     "output_type": "stream",
     "text": [
      "2/2 [==============================] - 0s 3ms/step - loss: 0.6133 - accuracy: 0.6777\n",
      "Epoch 85/100\n",
      "2/2 [==============================] - 0s 3ms/step - loss: 0.6157 - accuracy: 0.6777\n",
      "Epoch 86/100\n",
      "2/2 [==============================] - 0s 2ms/step - loss: 0.5959 - accuracy: 0.7193\n",
      "Epoch 87/100\n",
      "2/2 [==============================] - 0s 3ms/step - loss: 0.6001 - accuracy: 0.6881\n",
      "Epoch 88/100\n",
      "2/2 [==============================] - 0s 3ms/step - loss: 0.5914 - accuracy: 0.7193\n",
      "Epoch 89/100\n",
      "2/2 [==============================] - 0s 2ms/step - loss: 0.5901 - accuracy: 0.7089\n",
      "Epoch 90/100\n",
      "2/2 [==============================] - 0s 3ms/step - loss: 0.6055 - accuracy: 0.6985\n",
      "Epoch 91/100\n",
      "2/2 [==============================] - 0s 2ms/step - loss: 0.6246 - accuracy: 0.6568\n",
      "Epoch 92/100\n",
      "2/2 [==============================] - 0s 2ms/step - loss: 0.6108 - accuracy: 0.6777\n",
      "Epoch 93/100\n",
      "2/2 [==============================] - 0s 3ms/step - loss: 0.6049 - accuracy: 0.6985\n",
      "Epoch 94/100\n",
      "2/2 [==============================] - 0s 2ms/step - loss: 0.6076 - accuracy: 0.6777\n",
      "Epoch 95/100\n",
      "2/2 [==============================] - 0s 2ms/step - loss: 0.6180 - accuracy: 0.6464\n",
      "Epoch 96/100\n",
      "2/2 [==============================] - 0s 3ms/step - loss: 0.6073 - accuracy: 0.6672\n",
      "Epoch 97/100\n",
      "2/2 [==============================] - 0s 2ms/step - loss: 0.6196 - accuracy: 0.6672\n",
      "Epoch 98/100\n",
      "2/2 [==============================] - 0s 2ms/step - loss: 0.6038 - accuracy: 0.6881\n",
      "Epoch 99/100\n",
      "2/2 [==============================] - 0s 2ms/step - loss: 0.6118 - accuracy: 0.6672\n",
      "Epoch 100/100\n",
      "2/2 [==============================] - 0s 2ms/step - loss: 0.6000 - accuracy: 0.6985\n"
     ]
    },
    {
     "data": {
      "text/plain": [
       "<keras.callbacks.History at 0x1e3e059c2e0>"
      ]
     },
     "execution_count": 539,
     "metadata": {},
     "output_type": "execute_result"
    }
   ],
   "source": [
    "model.fit(X,y,epochs=100)"
   ]
  },
  {
   "cell_type": "code",
   "execution_count": 540,
   "metadata": {},
   "outputs": [
    {
     "name": "stdout",
     "output_type": "stream",
     "text": [
      "        Date      Time  Heart Rate  SpO2  Temperature\n",
      "0   7/4/2021  22:36:09          81    96    36.369987\n",
      "1   7/4/2021  22:47:44          71    96    36.849998\n",
      "2   7/4/2021  22:48:10          76    96    35.929985\n",
      "3   7/4/2021  22:48:36          68    98    33.189995\n",
      "4   7/4/2021  22:50:09          66    96    36.409996\n",
      "5   7/4/2021  22:50:35          71    96    36.469994\n",
      "6   7/4/2021  22:51:04          60    96    36.409996\n",
      "7   7/4/2021  22:51:34          60    96    36.809990\n",
      "8   7/4/2021  23:01:29          86    95    37.129997\n",
      "9   7/4/2021  23:03:42          71    95    38.050011\n",
      "10  7/4/2021  23:04:08          78    96    37.170006\n",
      "11  7/4/2021  23:04:34          79    96    37.010002\n",
      "12  7/4/2021  23:05:34          75    96    37.349998\n",
      "13  7/4/2021  23:06:00          68    97    36.730003\n",
      "14  7/4/2021  23:06:26          78    96    37.029991\n",
      "15  7/7/2021  20:46:01          99    97    39.189995\n",
      "16  7/7/2021  20:46:32         100    97    38.809990\n",
      "17  7/7/2021  20:47:22          63    97    38.429985\n",
      "18  7/7/2021  20:47:48         126    95    37.629997\n",
      "19  7/7/2021  20:48:38          95    97    34.390007\n",
      "20  7/7/2021  20:50:44          98    97    38.770012\n",
      "21  7/7/2021  20:51:38          71    96    37.869987\n",
      "22  7/7/2021  20:52:08          96    97    39.450005\n",
      "23  7/7/2021  20:54:35          98    94    39.149986\n",
      "24  7/7/2021  20:56:31         104    97    39.189995\n",
      "25  7/7/2021  20:56:57          97    97    38.409996\n",
      "26  7/7/2021  20:57:26         100    97    38.209984\n",
      "27  7/7/2021  20:58:21          90    97    37.369987\n",
      "28  7/7/2021  20:59:18         100    96    37.330009\n"
     ]
    }
   ],
   "source": [
    "#https://docs.google.com/spreadsheets/d/1LirHki_QnepGXuAjJs6YhgwR6CFSSnrOODFJ3CEAQAo/edit?usp=sharing\n",
    "#https://docs.google.com/spreadsheets/d/1MyADzxm9TBakpC81R22AD2idcvWxxZZgC-Xz-YVk_J8/edit?usp=sharing\n",
    "sheet_id = '1LirHki_QnepGXuAjJs6YhgwR6CFSSnrOODFJ3CEAQAo'\n",
    "dt = pandas.read_csv(f\"https://docs.google.com/spreadsheets/d/{sheet_id}/export?format=csv\")\n",
    "print(dt)"
   ]
  },
  {
   "cell_type": "code",
   "execution_count": 541,
   "metadata": {},
   "outputs": [],
   "source": [
    "s=s+1\n",
    "k = dt.iloc[s]\n",
    "k\n",
    "new_k = np.asarray(k)\n",
    "p = new_k[2]\n",
    "q = new_k[4]\n",
    "r = new_k[3]\n",
    "t = np.array([[p,q,r]])"
   ]
  },
  {
   "cell_type": "code",
   "execution_count": 549,
   "metadata": {},
   "outputs": [],
   "source": [
    "x = model.predict([t])\n",
    "y = s+1 #patient number\n",
    "y = str(y)"
   ]
  },
  {
   "cell_type": "code",
   "execution_count": 543,
   "metadata": {},
   "outputs": [],
   "source": [
    "if x<0.5:\n",
    "    k = \"Normal Conditions are predicted. Take care!\"\n",
    "elif x>0.5:\n",
    "    k = \"Abnormal Conditions are predicted. We suggest you to please consult a doctor\"\n",
    "else:\n",
    "    k = \"Health is moderate\"\n"
   ]
  },
  {
   "cell_type": "code",
   "execution_count": 544,
   "metadata": {},
   "outputs": [
    {
     "data": {
      "text/plain": [
       "1"
      ]
     },
     "execution_count": 544,
     "metadata": {},
     "output_type": "execute_result"
    }
   ],
   "source": [
    "if x<0.5:\n",
    "    p = 0\n",
    "else:\n",
    "    p = 1\n",
    "    \n",
    "p"
   ]
  },
  {
   "cell_type": "code",
   "execution_count": 545,
   "metadata": {},
   "outputs": [
    {
     "data": {
      "text/plain": [
       "[71.0, 36.84999847, 96.0, 1]"
      ]
     },
     "execution_count": 545,
     "metadata": {},
     "output_type": "execute_result"
    }
   ],
   "source": [
    "from csv import writer\n",
    "  \n",
    "# List \n",
    "llist=[]\n",
    "llist.append(t[0][0])\n",
    "llist.append(t[0][1])\n",
    "llist.append(t[0][2])\n",
    "llist.append(p)\n",
    "llist\n",
    "  "
   ]
  },
  {
   "cell_type": "code",
   "execution_count": 547,
   "metadata": {},
   "outputs": [],
   "source": [
    "# Open our existing CSV file in append mode\n",
    "# Create a file object for this file\n",
    "with open('data.csv', 'a') as f_object:\n",
    "  \n",
    "    # Pass this file object to csv.writer()\n",
    "    # and get a writer object\n",
    "    writer_object = writer(f_object)\n",
    "  \n",
    "    # Pass the list as an argument into\n",
    "    # the writerow()\n",
    "    writer_object.writerow(llist)\n",
    "  \n",
    "    #Close the file object\n",
    "    f_object.close()"
   ]
  },
  {
   "cell_type": "code",
   "execution_count": 550,
   "metadata": {},
   "outputs": [
    {
     "ename": "TwilioRestException",
     "evalue": "HTTP 401 error: Unable to create record: Authenticate",
     "output_type": "error",
     "traceback": [
      "\u001b[1;31m---------------------------------------------------------------------------\u001b[0m",
      "\u001b[1;31mTwilioRestException\u001b[0m                       Traceback (most recent call last)",
      "\u001b[1;32m<ipython-input-550-e90c06a4c45f>\u001b[0m in \u001b[0;36m<module>\u001b[1;34m\u001b[0m\n\u001b[0;32m      5\u001b[0m \u001b[0mclient\u001b[0m \u001b[1;33m=\u001b[0m \u001b[0mClient\u001b[0m\u001b[1;33m(\u001b[0m\u001b[0maccount_sid\u001b[0m\u001b[1;33m,\u001b[0m \u001b[0mauth_token\u001b[0m\u001b[1;33m)\u001b[0m\u001b[1;33m\u001b[0m\u001b[1;33m\u001b[0m\u001b[0m\n\u001b[0;32m      6\u001b[0m \u001b[1;33m\u001b[0m\u001b[0m\n\u001b[1;32m----> 7\u001b[1;33m message = client.messages.create( \n\u001b[0m\u001b[0;32m      8\u001b[0m                               \u001b[0mfrom_\u001b[0m\u001b[1;33m=\u001b[0m\u001b[1;34m'whatsapp:+14155238886'\u001b[0m\u001b[1;33m,\u001b[0m\u001b[1;33m\u001b[0m\u001b[1;33m\u001b[0m\u001b[0m\n\u001b[0;32m      9\u001b[0m                               \u001b[0mbody\u001b[0m\u001b[1;33m=\u001b[0m \u001b[1;34m\"Patient ID (\"\u001b[0m \u001b[1;33m+\u001b[0m \u001b[0my\u001b[0m \u001b[1;33m+\u001b[0m \u001b[1;34m\")\"\u001b[0m\u001b[1;33m+\u001b[0m \u001b[1;34m\" = \"\u001b[0m\u001b[1;33m+\u001b[0m\u001b[0mk\u001b[0m \u001b[1;33m,\u001b[0m\u001b[1;33m\u001b[0m\u001b[1;33m\u001b[0m\u001b[0m\n",
      "\u001b[1;32mC:\\Anaconda\\lib\\site-packages\\twilio\\rest\\api\\v2010\\account\\message\\__init__.py\u001b[0m in \u001b[0;36mcreate\u001b[1;34m(self, to, status_callback, application_sid, max_price, provide_feedback, attempt, validity_period, force_delivery, content_retention, address_retention, smart_encoded, persistent_action, from_, messaging_service_sid, body, media_url)\u001b[0m\n\u001b[0;32m     86\u001b[0m         })\n\u001b[0;32m     87\u001b[0m \u001b[1;33m\u001b[0m\u001b[0m\n\u001b[1;32m---> 88\u001b[1;33m         \u001b[0mpayload\u001b[0m \u001b[1;33m=\u001b[0m \u001b[0mself\u001b[0m\u001b[1;33m.\u001b[0m\u001b[0m_version\u001b[0m\u001b[1;33m.\u001b[0m\u001b[0mcreate\u001b[0m\u001b[1;33m(\u001b[0m\u001b[0mmethod\u001b[0m\u001b[1;33m=\u001b[0m\u001b[1;34m'POST'\u001b[0m\u001b[1;33m,\u001b[0m \u001b[0muri\u001b[0m\u001b[1;33m=\u001b[0m\u001b[0mself\u001b[0m\u001b[1;33m.\u001b[0m\u001b[0m_uri\u001b[0m\u001b[1;33m,\u001b[0m \u001b[0mdata\u001b[0m\u001b[1;33m=\u001b[0m\u001b[0mdata\u001b[0m\u001b[1;33m,\u001b[0m \u001b[1;33m)\u001b[0m\u001b[1;33m\u001b[0m\u001b[1;33m\u001b[0m\u001b[0m\n\u001b[0m\u001b[0;32m     89\u001b[0m \u001b[1;33m\u001b[0m\u001b[0m\n\u001b[0;32m     90\u001b[0m         \u001b[1;32mreturn\u001b[0m \u001b[0mMessageInstance\u001b[0m\u001b[1;33m(\u001b[0m\u001b[0mself\u001b[0m\u001b[1;33m.\u001b[0m\u001b[0m_version\u001b[0m\u001b[1;33m,\u001b[0m \u001b[0mpayload\u001b[0m\u001b[1;33m,\u001b[0m \u001b[0maccount_sid\u001b[0m\u001b[1;33m=\u001b[0m\u001b[0mself\u001b[0m\u001b[1;33m.\u001b[0m\u001b[0m_solution\u001b[0m\u001b[1;33m[\u001b[0m\u001b[1;34m'account_sid'\u001b[0m\u001b[1;33m]\u001b[0m\u001b[1;33m,\u001b[0m \u001b[1;33m)\u001b[0m\u001b[1;33m\u001b[0m\u001b[1;33m\u001b[0m\u001b[0m\n",
      "\u001b[1;32mC:\\Anaconda\\lib\\site-packages\\twilio\\base\\version.py\u001b[0m in \u001b[0;36mcreate\u001b[1;34m(self, method, uri, params, data, headers, auth, timeout, allow_redirects)\u001b[0m\n\u001b[0;32m    203\u001b[0m \u001b[1;33m\u001b[0m\u001b[0m\n\u001b[0;32m    204\u001b[0m         \u001b[1;32mif\u001b[0m \u001b[0mresponse\u001b[0m\u001b[1;33m.\u001b[0m\u001b[0mstatus_code\u001b[0m \u001b[1;33m<\u001b[0m \u001b[1;36m200\u001b[0m \u001b[1;32mor\u001b[0m \u001b[0mresponse\u001b[0m\u001b[1;33m.\u001b[0m\u001b[0mstatus_code\u001b[0m \u001b[1;33m>=\u001b[0m \u001b[1;36m300\u001b[0m\u001b[1;33m:\u001b[0m\u001b[1;33m\u001b[0m\u001b[1;33m\u001b[0m\u001b[0m\n\u001b[1;32m--> 205\u001b[1;33m             \u001b[1;32mraise\u001b[0m \u001b[0mself\u001b[0m\u001b[1;33m.\u001b[0m\u001b[0mexception\u001b[0m\u001b[1;33m(\u001b[0m\u001b[0mmethod\u001b[0m\u001b[1;33m,\u001b[0m \u001b[0muri\u001b[0m\u001b[1;33m,\u001b[0m \u001b[0mresponse\u001b[0m\u001b[1;33m,\u001b[0m \u001b[1;34m'Unable to create record'\u001b[0m\u001b[1;33m)\u001b[0m\u001b[1;33m\u001b[0m\u001b[1;33m\u001b[0m\u001b[0m\n\u001b[0m\u001b[0;32m    206\u001b[0m \u001b[1;33m\u001b[0m\u001b[0m\n\u001b[0;32m    207\u001b[0m         \u001b[1;32mreturn\u001b[0m \u001b[0mjson\u001b[0m\u001b[1;33m.\u001b[0m\u001b[0mloads\u001b[0m\u001b[1;33m(\u001b[0m\u001b[0mresponse\u001b[0m\u001b[1;33m.\u001b[0m\u001b[0mtext\u001b[0m\u001b[1;33m)\u001b[0m\u001b[1;33m\u001b[0m\u001b[1;33m\u001b[0m\u001b[0m\n",
      "\u001b[1;31mTwilioRestException\u001b[0m: HTTP 401 error: Unable to create record: Authenticate"
     ]
    }
   ],
   "source": [
    "from twilio.rest import Client \n",
    " \n",
    "account_sid = 'ACfd33c236553f7c80e20c3c9fb2c32825' \n",
    "auth_token = 'c5e31627f5fdffaac00812759e67744b' \n",
    "client = Client(account_sid, auth_token) \n",
    " \n",
    "message = client.messages.create( \n",
    "                              from_='whatsapp:+14155238886',  \n",
    "                              body= \"Patient ID (\" + y + \")\"+ \" = \"+k ,      \n",
    "                              to='whatsapp:+916301567379' \n",
    "                          ) \n",
    " \n",
    "print(message.sid)"
   ]
  },
  {
   "cell_type": "markdown",
   "metadata": {},
   "source": []
  }
 ],
 "metadata": {
  "kernelspec": {
   "display_name": "Python 3",
   "language": "python",
   "name": "python3"
  },
  "language_info": {
   "codemirror_mode": {
    "name": "ipython",
    "version": 3
   },
   "file_extension": ".py",
   "mimetype": "text/x-python",
   "name": "python",
   "nbconvert_exporter": "python",
   "pygments_lexer": "ipython3",
   "version": "3.8.3"
  }
 },
 "nbformat": 4,
 "nbformat_minor": 5
}
