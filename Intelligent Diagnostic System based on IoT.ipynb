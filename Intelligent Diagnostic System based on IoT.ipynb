{
 "cells": [
  {
   "cell_type": "code",
   "execution_count": 1,
   "metadata": {},
   "outputs": [],
   "source": [
    "import pandas"
   ]
  },
  {
   "cell_type": "code",
   "execution_count": 2,
   "metadata": {},
   "outputs": [],
   "source": [
    "ds = pandas.read_csv(\"data.csv\")"
   ]
  },
  {
   "cell_type": "code",
   "execution_count": 3,
   "metadata": {},
   "outputs": [
    {
     "data": {
      "text/html": [
       "<div>\n",
       "<style scoped>\n",
       "    .dataframe tbody tr th:only-of-type {\n",
       "        vertical-align: middle;\n",
       "    }\n",
       "\n",
       "    .dataframe tbody tr th {\n",
       "        vertical-align: top;\n",
       "    }\n",
       "\n",
       "    .dataframe thead th {\n",
       "        text-align: right;\n",
       "    }\n",
       "</style>\n",
       "<table border=\"1\" class=\"dataframe\">\n",
       "  <thead>\n",
       "    <tr style=\"text-align: right;\">\n",
       "      <th></th>\n",
       "      <th>Gender</th>\n",
       "      <th>Heart rate</th>\n",
       "      <th>Temp</th>\n",
       "      <th>SPO2</th>\n",
       "      <th>Condition</th>\n",
       "    </tr>\n",
       "  </thead>\n",
       "  <tbody>\n",
       "    <tr>\n",
       "      <th>0</th>\n",
       "      <td>M</td>\n",
       "      <td>193</td>\n",
       "      <td>36.7</td>\n",
       "      <td>98</td>\n",
       "      <td>0</td>\n",
       "    </tr>\n",
       "    <tr>\n",
       "      <th>1</th>\n",
       "      <td>M</td>\n",
       "      <td>99</td>\n",
       "      <td>37.2</td>\n",
       "      <td>97</td>\n",
       "      <td>0</td>\n",
       "    </tr>\n",
       "    <tr>\n",
       "      <th>2</th>\n",
       "      <td>M</td>\n",
       "      <td>80</td>\n",
       "      <td>36.0</td>\n",
       "      <td>97</td>\n",
       "      <td>1</td>\n",
       "    </tr>\n",
       "    <tr>\n",
       "      <th>3</th>\n",
       "      <td>M</td>\n",
       "      <td>73</td>\n",
       "      <td>36.8</td>\n",
       "      <td>98</td>\n",
       "      <td>1</td>\n",
       "    </tr>\n",
       "    <tr>\n",
       "      <th>4</th>\n",
       "      <td>M</td>\n",
       "      <td>72</td>\n",
       "      <td>36.0</td>\n",
       "      <td>96</td>\n",
       "      <td>0</td>\n",
       "    </tr>\n",
       "  </tbody>\n",
       "</table>\n",
       "</div>"
      ],
      "text/plain": [
       "  Gender  Heart rate   Temp   SPO2  Condition\n",
       "0      M          193   36.7    98          0\n",
       "1      M           99   37.2    97          0\n",
       "2      M           80   36.0    97          1\n",
       "3      M           73   36.8    98          1\n",
       "4      M           72   36.0    96          0"
      ]
     },
     "execution_count": 3,
     "metadata": {},
     "output_type": "execute_result"
    }
   ],
   "source": [
    "ds.head()"
   ]
  },
  {
   "cell_type": "code",
   "execution_count": 4,
   "metadata": {},
   "outputs": [
    {
     "data": {
      "text/plain": [
       "Index(['Gender', 'Heart rate ', 'Temp ', 'SPO2', 'Condition'], dtype='object')"
      ]
     },
     "execution_count": 4,
     "metadata": {},
     "output_type": "execute_result"
    }
   ],
   "source": [
    "ds.columns"
   ]
  },
  {
   "cell_type": "code",
   "execution_count": 5,
   "metadata": {},
   "outputs": [],
   "source": [
    "y = ds['Condition']"
   ]
  },
  {
   "cell_type": "code",
   "execution_count": 6,
   "metadata": {},
   "outputs": [],
   "source": [
    "X = ds[['Heart rate ', 'Temp ', 'SPO2']]"
   ]
  },
  {
   "cell_type": "code",
   "execution_count": 7,
   "metadata": {},
   "outputs": [],
   "source": [
    "from keras.models import Sequential"
   ]
  },
  {
   "cell_type": "code",
   "execution_count": 8,
   "metadata": {},
   "outputs": [],
   "source": [
    "model = Sequential()"
   ]
  },
  {
   "cell_type": "code",
   "execution_count": 9,
   "metadata": {},
   "outputs": [],
   "source": [
    "from keras.layers import Dense"
   ]
  },
  {
   "cell_type": "markdown",
   "metadata": {},
   "source": [
    "\n",
    "\n"
   ]
  },
  {
   "cell_type": "code",
   "execution_count": 10,
   "metadata": {},
   "outputs": [],
   "source": [
    "model.add(Dense(units=12, activation='relu', input_dim = 3))"
   ]
  },
  {
   "cell_type": "code",
   "execution_count": 11,
   "metadata": {},
   "outputs": [
    {
     "name": "stdout",
     "output_type": "stream",
     "text": [
      "Model: \"sequential\"\n",
      "_________________________________________________________________\n",
      "Layer (type)                 Output Shape              Param #   \n",
      "=================================================================\n",
      "dense (Dense)                (None, 12)                48        \n",
      "=================================================================\n",
      "Total params: 48\n",
      "Trainable params: 48\n",
      "Non-trainable params: 0\n",
      "_________________________________________________________________\n"
     ]
    }
   ],
   "source": [
    "model.summary()"
   ]
  },
  {
   "cell_type": "code",
   "execution_count": 12,
   "metadata": {},
   "outputs": [],
   "source": [
    "model.add(Dense(units=6, activation='relu'))"
   ]
  },
  {
   "cell_type": "code",
   "execution_count": 13,
   "metadata": {},
   "outputs": [],
   "source": [
    "model.add(Dense(units=4, activation='relu'))"
   ]
  },
  {
   "cell_type": "code",
   "execution_count": 14,
   "metadata": {},
   "outputs": [],
   "source": [
    "model.add(Dense(units=3, activation='relu'))"
   ]
  },
  {
   "cell_type": "code",
   "execution_count": 15,
   "metadata": {},
   "outputs": [],
   "source": [
    "model.add(Dense(units=2, activation='relu'))"
   ]
  },
  {
   "cell_type": "code",
   "execution_count": 16,
   "metadata": {},
   "outputs": [],
   "source": [
    "model.add(Dense(units=1, activation='sigmoid'))"
   ]
  },
  {
   "cell_type": "code",
   "execution_count": 17,
   "metadata": {},
   "outputs": [
    {
     "name": "stdout",
     "output_type": "stream",
     "text": [
      "Model: \"sequential\"\n",
      "_________________________________________________________________\n",
      "Layer (type)                 Output Shape              Param #   \n",
      "=================================================================\n",
      "dense (Dense)                (None, 12)                48        \n",
      "_________________________________________________________________\n",
      "dense_1 (Dense)              (None, 6)                 78        \n",
      "_________________________________________________________________\n",
      "dense_2 (Dense)              (None, 4)                 28        \n",
      "_________________________________________________________________\n",
      "dense_3 (Dense)              (None, 3)                 15        \n",
      "_________________________________________________________________\n",
      "dense_4 (Dense)              (None, 2)                 8         \n",
      "_________________________________________________________________\n",
      "dense_5 (Dense)              (None, 1)                 3         \n",
      "=================================================================\n",
      "Total params: 180\n",
      "Trainable params: 180\n",
      "Non-trainable params: 0\n",
      "_________________________________________________________________\n"
     ]
    }
   ],
   "source": [
    "model.summary()"
   ]
  },
  {
   "cell_type": "code",
   "execution_count": 18,
   "metadata": {},
   "outputs": [],
   "source": [
    "from keras.optimizers import Adam"
   ]
  },
  {
   "cell_type": "code",
   "execution_count": 19,
   "metadata": {},
   "outputs": [],
   "source": [
    "model.compile(optimizer=Adam(learning_rate=0.001),loss=\"binary_crossentropy\",metrics=[\"accuracy\"])"
   ]
  },
  {
   "cell_type": "code",
   "execution_count": 20,
   "metadata": {},
   "outputs": [
    {
     "name": "stdout",
     "output_type": "stream",
     "text": [
      "Epoch 1/100\n",
      "2/2 [==============================] - 30s 96ms/step - loss: 0.6931 - accuracy: 0.4383\n",
      "Epoch 2/100\n",
      "2/2 [==============================] - 0s 3ms/step - loss: 0.6931 - accuracy: 0.5930\n",
      "Epoch 3/100\n",
      "2/2 [==============================] - 0s 3ms/step - loss: 0.6929 - accuracy: 0.5930\n",
      "Epoch 4/100\n",
      "2/2 [==============================] - 0s 3ms/step - loss: 0.6927 - accuracy: 0.6034\n",
      "Epoch 5/100\n",
      "2/2 [==============================] - 0s 3ms/step - loss: 0.6927 - accuracy: 0.5721\n",
      "Epoch 6/100\n",
      "2/2 [==============================] - 0s 3ms/step - loss: 0.6923 - accuracy: 0.6138\n",
      "Epoch 7/100\n",
      "2/2 [==============================] - 0s 2ms/step - loss: 0.6924 - accuracy: 0.5826\n",
      "Epoch 8/100\n",
      "2/2 [==============================] - 0s 3ms/step - loss: 0.6919 - accuracy: 0.6242\n",
      "Epoch 9/100\n",
      "2/2 [==============================] - 0s 5ms/step - loss: 0.6920 - accuracy: 0.5930\n",
      "Epoch 10/100\n",
      "2/2 [==============================] - 0s 6ms/step - loss: 0.6922 - accuracy: 0.5721\n",
      "Epoch 11/100\n",
      "2/2 [==============================] - 0s 5ms/step - loss: 0.6917 - accuracy: 0.5930\n",
      "Epoch 12/100\n",
      "2/2 [==============================] - 0s 5ms/step - loss: 0.6914 - accuracy: 0.6034\n",
      "Epoch 13/100\n",
      "2/2 [==============================] - 0s 5ms/step - loss: 0.6913 - accuracy: 0.6034\n",
      "Epoch 14/100\n",
      "2/2 [==============================] - 0s 6ms/step - loss: 0.6913 - accuracy: 0.5930\n",
      "Epoch 15/100\n",
      "2/2 [==============================] - 0s 6ms/step - loss: 0.6914 - accuracy: 0.5826\n",
      "Epoch 16/100\n",
      "2/2 [==============================] - 0s 4ms/step - loss: 0.6913 - accuracy: 0.5826\n",
      "Epoch 17/100\n",
      "2/2 [==============================] - 0s 3ms/step - loss: 0.6904 - accuracy: 0.6138\n",
      "Epoch 18/100\n",
      "2/2 [==============================] - 0s 3ms/step - loss: 0.6902 - accuracy: 0.6138\n",
      "Epoch 19/100\n",
      "2/2 [==============================] - 0s 5ms/step - loss: 0.6906 - accuracy: 0.5930\n",
      "Epoch 20/100\n",
      "2/2 [==============================] - 0s 7ms/step - loss: 0.6908 - accuracy: 0.5826\n",
      "Epoch 21/100\n",
      "2/2 [==============================] - 0s 5ms/step - loss: 0.6900 - accuracy: 0.6034\n",
      "Epoch 22/100\n",
      "2/2 [==============================] - 0s 5ms/step - loss: 0.6899 - accuracy: 0.6034\n",
      "Epoch 23/100\n",
      "2/2 [==============================] - 0s 6ms/step - loss: 0.6901 - accuracy: 0.5930\n",
      "Epoch 24/100\n",
      "2/2 [==============================] - 0s 6ms/step - loss: 0.6907 - accuracy: 0.5721\n",
      "Epoch 25/100\n",
      "2/2 [==============================] - 0s 6ms/step - loss: 0.6902 - accuracy: 0.5826\n",
      "Epoch 26/100\n",
      "2/2 [==============================] - 0s 7ms/step - loss: 0.6893 - accuracy: 0.6034\n",
      "Epoch 27/100\n",
      "2/2 [==============================] - 0s 6ms/step - loss: 0.6895 - accuracy: 0.5930\n",
      "Epoch 28/100\n",
      "2/2 [==============================] - 0s 7ms/step - loss: 0.6890 - accuracy: 0.6034\n",
      "Epoch 29/100\n",
      "2/2 [==============================] - 0s 5ms/step - loss: 0.6897 - accuracy: 0.5826\n",
      "Epoch 30/100\n",
      "2/2 [==============================] - 0s 6ms/step - loss: 0.6901 - accuracy: 0.5721\n",
      "Epoch 31/100\n",
      "2/2 [==============================] - 0s 7ms/step - loss: 0.6895 - accuracy: 0.5826\n",
      "Epoch 32/100\n",
      "2/2 [==============================] - 0s 5ms/step - loss: 0.6889 - accuracy: 0.5930\n",
      "Epoch 33/100\n",
      "2/2 [==============================] - 0s 5ms/step - loss: 0.6887 - accuracy: 0.5930\n",
      "Epoch 34/100\n",
      "2/2 [==============================] - 0s 5ms/step - loss: 0.6891 - accuracy: 0.5826\n",
      "Epoch 35/100\n",
      "2/2 [==============================] - 0s 4ms/step - loss: 0.6885 - accuracy: 0.5930\n",
      "Epoch 36/100\n",
      "2/2 [==============================] - 0s 6ms/step - loss: 0.6883 - accuracy: 0.5930\n",
      "Epoch 37/100\n",
      "2/2 [==============================] - 0s 4ms/step - loss: 0.6888 - accuracy: 0.5826\n",
      "Epoch 38/100\n",
      "2/2 [==============================] - 0s 5ms/step - loss: 0.6893 - accuracy: 0.5721\n",
      "Epoch 39/100\n",
      "2/2 [==============================] - 0s 6ms/step - loss: 0.6867 - accuracy: 0.6138\n",
      "Epoch 40/100\n",
      "2/2 [==============================] - 0s 6ms/step - loss: 0.6865 - accuracy: 0.6138\n",
      "Epoch 41/100\n",
      "2/2 [==============================] - 0s 5ms/step - loss: 0.6884 - accuracy: 0.5826\n",
      "Epoch 42/100\n",
      "2/2 [==============================] - 0s 6ms/step - loss: 0.6856 - accuracy: 0.6242\n",
      "Epoch 43/100\n",
      "2/2 [==============================] - 0s 5ms/step - loss: 0.6868 - accuracy: 0.6034\n",
      "Epoch 44/100\n",
      "2/2 [==============================] - 0s 5ms/step - loss: 0.6881 - accuracy: 0.5826\n",
      "Epoch 45/100\n",
      "2/2 [==============================] - 0s 7ms/step - loss: 0.6865 - accuracy: 0.6034\n",
      "Epoch 46/100\n",
      "2/2 [==============================] - 0s 6ms/step - loss: 0.6864 - accuracy: 0.6034\n",
      "Epoch 47/100\n",
      "2/2 [==============================] - 0s 7ms/step - loss: 0.6870 - accuracy: 0.5930\n",
      "Epoch 48/100\n",
      "2/2 [==============================] - 0s 6ms/step - loss: 0.6861 - accuracy: 0.6034\n",
      "Epoch 49/100\n",
      "2/2 [==============================] - 0s 4ms/step - loss: 0.6876 - accuracy: 0.5826\n",
      "Epoch 50/100\n",
      "2/2 [==============================] - 0s 7ms/step - loss: 0.6859 - accuracy: 0.6034\n",
      "Epoch 51/100\n",
      "2/2 [==============================] - 0s 6ms/step - loss: 0.6890 - accuracy: 0.5617\n",
      "Epoch 52/100\n",
      "2/2 [==============================] - 0s 5ms/step - loss: 0.6848 - accuracy: 0.6138\n",
      "Epoch 53/100\n",
      "2/2 [==============================] - 0s 6ms/step - loss: 0.6830 - accuracy: 0.6346\n",
      "Epoch 54/100\n",
      "2/2 [==============================] - 0s 6ms/step - loss: 0.6880 - accuracy: 0.5721\n",
      "Epoch 55/100\n",
      "2/2 [==============================] - 0s 12ms/step - loss: 0.6844 - accuracy: 0.6138\n",
      "Epoch 56/100\n",
      "2/2 [==============================] - 0s 7ms/step - loss: 0.6878 - accuracy: 0.5721\n",
      "Epoch 57/100\n",
      "2/2 [==============================] - 0s 5ms/step - loss: 0.6869 - accuracy: 0.5826\n",
      "Epoch 58/100\n",
      "2/2 [==============================] - 0s 4ms/step - loss: 0.6859 - accuracy: 0.5930\n",
      "Epoch 59/100\n",
      "2/2 [==============================] - 0s 4ms/step - loss: 0.6858 - accuracy: 0.5930\n",
      "Epoch 60/100\n",
      "2/2 [==============================] - ETA: 0s - loss: 0.6856 - accuracy: 0.59 - 0s 5ms/step - loss: 0.6857 - accuracy: 0.5930\n",
      "Epoch 61/100\n",
      "2/2 [==============================] - 0s 5ms/step - loss: 0.6865 - accuracy: 0.5826\n",
      "Epoch 62/100\n",
      "2/2 [==============================] - 0s 3ms/step - loss: 0.6855 - accuracy: 0.5930\n",
      "Epoch 63/100\n",
      "2/2 [==============================] - 0s 2ms/step - loss: 0.6874 - accuracy: 0.5721\n",
      "Epoch 64/100\n",
      "2/2 [==============================] - 0s 5ms/step - loss: 0.6843 - accuracy: 0.6034\n",
      "Epoch 65/100\n",
      "2/2 [==============================] - 0s 6ms/step - loss: 0.6842 - accuracy: 0.6034\n",
      "Epoch 66/100\n",
      "2/2 [==============================] - 0s 7ms/step - loss: 0.6840 - accuracy: 0.6034\n",
      "Epoch 67/100\n",
      "2/2 [==============================] - 0s 5ms/step - loss: 0.6818 - accuracy: 0.6242\n",
      "Epoch 68/100\n",
      "2/2 [==============================] - 0s 5ms/step - loss: 0.6860 - accuracy: 0.5826\n",
      "Epoch 69/100\n",
      "2/2 [==============================] - 0s 6ms/step - loss: 0.6826 - accuracy: 0.6138\n",
      "Epoch 70/100\n",
      "2/2 [==============================] - 0s 4ms/step - loss: 0.6880 - accuracy: 0.5617\n",
      "Epoch 71/100\n",
      "2/2 [==============================] - 0s 6ms/step - loss: 0.6891 - accuracy: 0.5513\n",
      "Epoch 72/100\n",
      "2/2 [==============================] - 0s 6ms/step - loss: 0.6879 - accuracy: 0.5617\n",
      "Epoch 73/100\n",
      "2/2 [==============================] - 0s 7ms/step - loss: 0.6867 - accuracy: 0.5721\n",
      "Epoch 74/100\n",
      "2/2 [==============================] - 0s 6ms/step - loss: 0.6809 - accuracy: 0.6242\n",
      "Epoch 75/100\n",
      "2/2 [==============================] - 0s 5ms/step - loss: 0.6831 - accuracy: 0.6034\n",
      "Epoch 76/100\n",
      "2/2 [==============================] - 0s 5ms/step - loss: 0.6830 - accuracy: 0.6034\n",
      "Epoch 77/100\n",
      "2/2 [==============================] - 0s 5ms/step - loss: 0.6841 - accuracy: 0.5930\n",
      "Epoch 78/100\n",
      "2/2 [==============================] - 0s 4ms/step - loss: 0.6876 - accuracy: 0.5617\n",
      "Epoch 79/100\n",
      "2/2 [==============================] - 0s 5ms/step - loss: 0.6803 - accuracy: 0.6242\n",
      "Epoch 80/100\n",
      "2/2 [==============================] - 0s 6ms/step - loss: 0.6838 - accuracy: 0.5930\n",
      "Epoch 81/100\n",
      "2/2 [==============================] - 0s 4ms/step - loss: 0.6850 - accuracy: 0.5826\n",
      "Epoch 82/100\n",
      "2/2 [==============================] - 0s 6ms/step - loss: 0.6875 - accuracy: 0.5617\n",
      "Epoch 83/100\n",
      "2/2 [==============================] - 0s 5ms/step - loss: 0.6874 - accuracy: 0.5617\n",
      "Epoch 84/100\n"
     ]
    },
    {
     "name": "stdout",
     "output_type": "stream",
     "text": [
      "2/2 [==============================] - 0s 5ms/step - loss: 0.6835 - accuracy: 0.5930\n",
      "Epoch 85/100\n",
      "2/2 [==============================] - 0s 6ms/step - loss: 0.6847 - accuracy: 0.5826\n",
      "Epoch 86/100\n",
      "2/2 [==============================] - 0s 4ms/step - loss: 0.6847 - accuracy: 0.5826\n",
      "Epoch 87/100\n",
      "2/2 [==============================] - 0s 4ms/step - loss: 0.6819 - accuracy: 0.6034\n",
      "Epoch 88/100\n",
      "2/2 [==============================] - 0s 5ms/step - loss: 0.6818 - accuracy: 0.6034\n",
      "Epoch 89/100\n",
      "2/2 [==============================] - 0s 5ms/step - loss: 0.6845 - accuracy: 0.5826\n",
      "Epoch 90/100\n",
      "2/2 [==============================] - 0s 5ms/step - loss: 0.6803 - accuracy: 0.6138\n",
      "Epoch 91/100\n",
      "2/2 [==============================] - 0s 6ms/step - loss: 0.6816 - accuracy: 0.6034\n",
      "Epoch 92/100\n",
      "2/2 [==============================] - 0s 4ms/step - loss: 0.6843 - accuracy: 0.5826\n",
      "Epoch 93/100\n",
      "2/2 [==============================] - 0s 6ms/step - loss: 0.6842 - accuracy: 0.5826\n",
      "Epoch 94/100\n",
      "2/2 [==============================] - 0s 5ms/step - loss: 0.6827 - accuracy: 0.5930\n",
      "Epoch 95/100\n",
      "2/2 [==============================] - 0s 6ms/step - loss: 0.6841 - accuracy: 0.5826\n",
      "Epoch 96/100\n",
      "2/2 [==============================] - 0s 5ms/step - loss: 0.6840 - accuracy: 0.5826\n",
      "Epoch 97/100\n",
      "2/2 [==============================] - 0s 11ms/step - loss: 0.6840 - accuracy: 0.5826\n",
      "Epoch 98/100\n",
      "2/2 [==============================] - 0s 8ms/step - loss: 0.6839 - accuracy: 0.5826\n",
      "Epoch 99/100\n",
      "2/2 [==============================] - 0s 6ms/step - loss: 0.6839 - accuracy: 0.5826\n",
      "Epoch 100/100\n",
      "2/2 [==============================] - 0s 5ms/step - loss: 0.6823 - accuracy: 0.5930\n"
     ]
    },
    {
     "data": {
      "text/plain": [
       "<keras.callbacks.History at 0x2ab77fb4f40>"
      ]
     },
     "execution_count": 20,
     "metadata": {},
     "output_type": "execute_result"
    }
   ],
   "source": [
    "model.fit(X,y,epochs=100)"
   ]
  },
  {
   "cell_type": "code",
   "execution_count": 50,
   "metadata": {},
   "outputs": [],
   "source": [
    "x = model.predict([[73,36.7,92]])\n",
    "y = \"1\" #patient number"
   ]
  },
  {
   "cell_type": "code",
   "execution_count": 54,
   "metadata": {},
   "outputs": [],
   "source": [
    "if x<0.5:\n",
    "    k = \"Normal Conditions are predicted. Take care!\"\n",
    "elif x>0.5:\n",
    "    k = \"Abnormal Conditions are predicted. We suggest you to please consult a doctor\"\n",
    "else:\n",
    "    k = \"Health is moderate\""
   ]
  },
  {
   "cell_type": "code",
   "execution_count": 55,
   "metadata": {},
   "outputs": [
    {
     "name": "stdout",
     "output_type": "stream",
     "text": [
      "SM77210721714c45aa878126e0fc22075f\n"
     ]
    }
   ],
   "source": [
    "from twilio.rest import Client \n",
    " \n",
    "account_sid = 'ACfd33c236553f7c80e20c3c9fb2c32825' \n",
    "auth_token = 'c5e31627f5fdffaac00812759e67744b' \n",
    "client = Client(account_sid, auth_token) \n",
    " \n",
    "message = client.messages.create( \n",
    "                              from_='whatsapp:+14155238886',  \n",
    "                              body= \"Patient ID (\" + y + \")\"+ \" = \"+k ,      \n",
    "                              to='whatsapp:+916301567379' \n",
    "                          ) \n",
    " \n",
    "print(message.sid)"
   ]
  },
  {
   "cell_type": "markdown",
   "metadata": {},
   "source": []
  }
 ],
 "metadata": {
  "kernelspec": {
   "display_name": "Python 3",
   "language": "python",
   "name": "python3"
  },
  "language_info": {
   "codemirror_mode": {
    "name": "ipython",
    "version": 3
   },
   "file_extension": ".py",
   "mimetype": "text/x-python",
   "name": "python",
   "nbconvert_exporter": "python",
   "pygments_lexer": "ipython3",
   "version": "3.8.3"
  }
 },
 "nbformat": 4,
 "nbformat_minor": 5
}
